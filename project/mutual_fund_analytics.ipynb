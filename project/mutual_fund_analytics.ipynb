{
 "cells": [
  {
   "cell_type": "code",
   "execution_count": 1,
   "id": "aa4cbbe1",
   "metadata": {},
   "outputs": [],
   "source": [
    "# Import base dependencies\n",
    "import pandas as pd\n",
    "from pathlib import Path\n",
    "import matplotlib.pyplot as plt\n",
    "from sklearn.linear_model import LinearRegression\n",
    "\n",
    "# Import ML dependencies\n",
    "import numpy as np\n",
    "import tensorflow as tf\n",
    "from tensorflow import keras\n",
    "from keras.models import Sequential\n",
    "from keras.layers import SimpleRNN, Flatten, TimeDistributed, LSTM"
   ]
  },
  {
   "cell_type": "code",
   "execution_count": 1,
   "id": "b6e6916c",
   "metadata": {},
   "outputs": [],
   "source": [
    "# Import base data"
   ]
  },
  {
   "cell_type": "code",
   "execution_count": 2,
   "id": "324918c8",
   "metadata": {},
   "outputs": [],
   "source": [
    "# Data processing and clearning\n",
    "# Must be in numpy array or tf.Dataset object format"
   ]
  },
  {
   "cell_type": "code",
   "execution_count": 3,
   "id": "a3b71f26",
   "metadata": {},
   "outputs": [],
   "source": [
    "# Feature selection and normalization"
   ]
  },
  {
   "cell_type": "code",
   "execution_count": 4,
   "id": "c1447d97",
   "metadata": {},
   "outputs": [],
   "source": [
    "# Build model"
   ]
  },
  {
   "cell_type": "code",
   "execution_count": 5,
   "id": "c8c03931",
   "metadata": {},
   "outputs": [],
   "source": [
    "# Train model"
   ]
  },
  {
   "cell_type": "code",
   "execution_count": 6,
   "id": "b0b361f6",
   "metadata": {},
   "outputs": [],
   "source": [
    "# Evaluate model"
   ]
  },
  {
   "cell_type": "code",
   "execution_count": 7,
   "id": "dec8b934",
   "metadata": {},
   "outputs": [],
   "source": [
    "# Refine model through hyperparameter tuning"
   ]
  },
  {
   "cell_type": "code",
   "execution_count": null,
   "id": "ede8ee04",
   "metadata": {},
   "outputs": [],
   "source": []
  }
 ],
 "metadata": {
  "kernelspec": {
   "display_name": "mlenv",
   "language": "python",
   "name": "mlenv"
  },
  "language_info": {
   "codemirror_mode": {
    "name": "ipython",
    "version": 3
   },
   "file_extension": ".py",
   "mimetype": "text/x-python",
   "name": "python",
   "nbconvert_exporter": "python",
   "pygments_lexer": "ipython3",
   "version": "3.9.16"
  }
 },
 "nbformat": 4,
 "nbformat_minor": 5
}
